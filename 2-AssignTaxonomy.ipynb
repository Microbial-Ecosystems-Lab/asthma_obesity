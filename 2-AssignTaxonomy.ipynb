{
 "cells": [
  {
   "cell_type": "code",
   "execution_count": 2,
   "id": "958595ec-71ec-4444-9848-e9e2f37ce060",
   "metadata": {
    "scrolled": true
   },
   "outputs": [],
   "source": [
    "#load packages in this order to avoid masking issues\n",
    "library(ShortRead)\n",
    "library(dada2)\n",
    "library(tidyverse)"
   ]
  },
  {
   "cell_type": "code",
   "execution_count": 3,
   "id": "0a19162d-e63b-4ae5-8afd-a1f49ef90ca7",
   "metadata": {},
   "outputs": [],
   "source": [
    "######\n",
    "#parameters to set before running\n",
    "subsample_depth = 1000 #each sample will be randomly subsampled to this number of reads, prior to taxonomic assignment (after filtering and trimming). For no subsampling see Nanopore_no_rarefaction.R under \"backups\" \n",
    "path_to_taxonomy_database = \"/media/zaramela/dumbo/databases/silva_nr99_v138.1_train_set.fa.gz\" #change to location of taxonomy database in relation to working directory (easiest to copy taxonomy database to working directory)\n",
    "path_to_working_directory = \".\" #leave as a \".\" if you want to set your working directory manually in RStudio \"Session\"--> \"Set Directory\" --> \"Choose Directory\"\n",
    "minBoot = 50 #Set the minBoot parameter for assignTaxonomy. minBoot refers to the minimum bootstrapping support required to return a taxonomic classification. Choose a number between 0-100, with 100 being the most stringent. \n",
    "######"
   ]
  },
  {
   "cell_type": "code",
   "execution_count": 6,
   "id": "362584da-0dee-4acf-948a-be18edc6b3f5",
   "metadata": {},
   "outputs": [],
   "source": [
    "path = '/media/zaramela/dumbo/vania/raw_data/filtered'"
   ]
  },
  {
   "cell_type": "code",
   "execution_count": 10,
   "id": "1b2fd7e8-cc26-4870-b053-f365ee039ff2",
   "metadata": {},
   "outputs": [],
   "source": [
    "#fastq filenames have format: \n",
    "filtFiles = sort(list.files(path, pattern=\".fastq\", full.names = TRUE))"
   ]
  },
  {
   "cell_type": "code",
   "execution_count": 11,
   "id": "b9d71700-8ce8-4c8e-ab5a-7ac2fe374463",
   "metadata": {},
   "outputs": [],
   "source": [
    "#extract sample names, assuming filenames have format: #samplename_XXX.fastq\n",
    "sample.names = sapply(strsplit(basename(filtFiles), \"\\\\.\"), `[`, 1)\n",
    "names(filtFiles) = sample.names"
   ]
  },
  {
   "cell_type": "code",
   "execution_count": 13,
   "id": "f52e2a42-eb4e-47cc-a4b4-8990852fd16b",
   "metadata": {},
   "outputs": [
    {
     "name": "stdout",
     "output_type": "stream",
     "text": [
      "[1] \"/media/zaramela/dumbo/vania/raw_data/filtered/ID1-Sample-1_filt.fastq\"\n",
      "[1] \"/media/zaramela/dumbo/vania/raw_data/filtered/ID10-Sample-10_filt.fastq\"\n",
      "[1] \"/media/zaramela/dumbo/vania/raw_data/filtered/ID11-Sample-11_filt.fastq\"\n",
      "[1] \"/media/zaramela/dumbo/vania/raw_data/filtered/ID12-Sample-12_filt.fastq\"\n",
      "[1] \"/media/zaramela/dumbo/vania/raw_data/filtered/ID13-Sample-13_filt.fastq\"\n",
      "[1] \"/media/zaramela/dumbo/vania/raw_data/filtered/ID14-Sample-14_filt.fastq\"\n",
      "[1] \"/media/zaramela/dumbo/vania/raw_data/filtered/ID15-Sample-15_filt.fastq\"\n",
      "[1] \"/media/zaramela/dumbo/vania/raw_data/filtered/ID16-Sample-16_filt.fastq\"\n",
      "[1] \"/media/zaramela/dumbo/vania/raw_data/filtered/ID17-Sample-17_filt.fastq\"\n",
      "[1] \"/media/zaramela/dumbo/vania/raw_data/filtered/ID18-Sample-18_filt.fastq\"\n",
      "[1] \"/media/zaramela/dumbo/vania/raw_data/filtered/ID19-Sample-19_filt.fastq\"\n",
      "[1] \"/media/zaramela/dumbo/vania/raw_data/filtered/ID2-Sample-2_filt.fastq\"\n",
      "[1] \"/media/zaramela/dumbo/vania/raw_data/filtered/ID20-Sample-20_filt.fastq\"\n",
      "[1] \"/media/zaramela/dumbo/vania/raw_data/filtered/ID3-Sample-3_filt.fastq\"\n",
      "[1] \"/media/zaramela/dumbo/vania/raw_data/filtered/ID4-Sample-4_filt.fastq\"\n",
      "[1] \"/media/zaramela/dumbo/vania/raw_data/filtered/ID5-Sample-5_filt.fastq\"\n",
      "[1] \"/media/zaramela/dumbo/vania/raw_data/filtered/ID6-Sample-6_filt.fastq\"\n",
      "[1] \"/media/zaramela/dumbo/vania/raw_data/filtered/ID7-Sample-7_filt.fastq\"\n",
      "[1] \"/media/zaramela/dumbo/vania/raw_data/filtered/ID8-Sample-8_filt.fastq\"\n",
      "[1] \"/media/zaramela/dumbo/vania/raw_data/filtered/ID9-Sample-9_filt.fastq\"\n"
     ]
    }
   ],
   "source": [
    "#import sequences and assign taxonomy - with subsetting to subsampling depth\n",
    "#this will create a csv file for each sample with the sequence and its assigned taxonomy\n",
    "for (fastq in filtFiles) {\n",
    "print(fastq)\n",
    "seqs = getSequences(fastq)\n",
    "sub = sample(1:length(seqs), subsample_depth, replace=FALSE) \n",
    "seq2 = seqs[sub]\n",
    "tax_rc = assignTaxonomy(seq2, path_to_taxonomy_database, multithread=TRUE, tryRC = TRUE, minBoot = minBoot)\n",
    "base = basename(fastq)\n",
    "samples = gsub(\"_filt.fastq\", \"\", base)\n",
    "write.csv(tax_rc, paste('tax', samples, 'csv', sep = '.' ))\n",
    "}"
   ]
  },
  {
   "cell_type": "code",
   "execution_count": null,
   "id": "49eff9fe-d86d-4dc8-b2d8-ad98f5aa7d85",
   "metadata": {},
   "outputs": [],
   "source": []
  }
 ],
 "metadata": {
  "kernelspec": {
   "display_name": "R",
   "language": "R",
   "name": "ir"
  },
  "language_info": {
   "codemirror_mode": "r",
   "file_extension": ".r",
   "mimetype": "text/x-r-source",
   "name": "R",
   "pygments_lexer": "r",
   "version": "4.3.1"
  }
 },
 "nbformat": 4,
 "nbformat_minor": 5
}
