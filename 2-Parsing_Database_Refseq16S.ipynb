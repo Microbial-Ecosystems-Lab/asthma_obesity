{
 "cells": [
  {
   "cell_type": "markdown",
   "id": "eb49eb7a-4d9c-481d-b4aa-78f534a24cdf",
   "metadata": {},
   "source": [
    "#### Extract full lineage from NCBI database"
   ]
  },
  {
   "cell_type": "code",
   "execution_count": 1,
   "id": "47e19d4a-945b-47cc-97f2-d63c33317046",
   "metadata": {},
   "outputs": [
    {
     "name": "stderr",
     "output_type": "stream",
     "text": [
      "── \u001b[1mAttaching core tidyverse packages\u001b[22m ───────────────────────────────────────────────────────────────────────────────────────────────────────────────────────────────────── tidyverse 2.0.0 ──\n",
      "\u001b[32m✔\u001b[39m \u001b[34mdplyr    \u001b[39m 1.1.4     \u001b[32m✔\u001b[39m \u001b[34mreadr    \u001b[39m 2.1.5\n",
      "\u001b[32m✔\u001b[39m \u001b[34mforcats  \u001b[39m 1.0.0     \u001b[32m✔\u001b[39m \u001b[34mstringr  \u001b[39m 1.5.1\n",
      "\u001b[32m✔\u001b[39m \u001b[34mggplot2  \u001b[39m 3.4.4     \u001b[32m✔\u001b[39m \u001b[34mtibble   \u001b[39m 3.2.1\n",
      "\u001b[32m✔\u001b[39m \u001b[34mlubridate\u001b[39m 1.9.3     \u001b[32m✔\u001b[39m \u001b[34mtidyr    \u001b[39m 1.3.1\n",
      "\u001b[32m✔\u001b[39m \u001b[34mpurrr    \u001b[39m 1.0.2     \n",
      "── \u001b[1mConflicts\u001b[22m ─────────────────────────────────────────────────────────────────────────────────────────────────────────────────────────────────────────────────────── tidyverse_conflicts() ──\n",
      "\u001b[31m✖\u001b[39m \u001b[34mdplyr\u001b[39m::\u001b[32mfilter()\u001b[39m masks \u001b[34mstats\u001b[39m::filter()\n",
      "\u001b[31m✖\u001b[39m \u001b[34mdplyr\u001b[39m::\u001b[32mlag()\u001b[39m    masks \u001b[34mstats\u001b[39m::lag()\n",
      "\u001b[36mℹ\u001b[39m Use the conflicted package (\u001b[3m\u001b[34m<http://conflicted.r-lib.org/>\u001b[39m\u001b[23m) to force all conflicts to become errors\n"
     ]
    }
   ],
   "source": [
    "#loading tidyverse package\n",
    "\n",
    "library(tidyverse) "
   ]
  },
  {
   "cell_type": "code",
   "execution_count": 4,
   "id": "ea327d93-8d3d-4572-b60e-d7b86b32a384",
   "metadata": {},
   "outputs": [],
   "source": [
    "#loading reference file (linking refseq accession number and taxID\n",
    "#reference file was obtaining parsing gff3 file provided by NCBI \n",
    "RefseqTaxID <- read.delim(\"data/RefseqTaxID.txt\", h=T)"
   ]
  },
  {
   "cell_type": "code",
   "execution_count": 7,
   "id": "02d63b5c-2ac8-41c0-8e94-477fe909bf67",
   "metadata": {},
   "outputs": [
    {
     "name": "stderr",
     "output_type": "stream",
     "text": [
      "Warning message in readLines(\"data/rankedlineage.dmp\"):\n",
      "“incomplete final line found on 'data/rankedlineage.dmp'”\n"
     ]
    }
   ],
   "source": [
    "tmp <- readLines(\"data/rankedlineage.dmp\") #look README. File obtained from NCBI refseq16S\n",
    "bac <- grep(\"Bacteria\", tmp)\n",
    "tax <- tmp[bac]\n",
    "tax <- tax[1:552981] #last line contain invalid configuration"
   ]
  },
  {
   "cell_type": "code",
   "execution_count": 12,
   "id": "9e1cd20d-f3b6-42d9-9289-d79a1c3e7a40",
   "metadata": {},
   "outputs": [],
   "source": [
    "taxtable = NULL\n",
    "\n",
    "for(i in 1:length(tax)){\n",
    "    tax1 <- gsub(\"\\t\", \"\", strsplit(tax[i],split = \"\\\\|\")[[1]])\n",
    "    tax1[tax1 == \"\"] <- NA\n",
    "    tax2 <- strsplit(tax1[2],split = \" \")[[1]]\n",
    "    if(length(tax2) >= 2){tax1[3] <- paste0(tax2[1], \" \", tax2[2])} \n",
    "    if(length(tax2) < 2){tax1[3] <- tax1[3]} \n",
    "    tax3 = data.frame(id = tax1[1],\n",
    "                      name = tax1[2],\n",
    "                      Species = tax1[3],\n",
    "                      Genus = tax1[4],\n",
    "                      Family = tax1[5],\n",
    "                      Order = tax1[6],\n",
    "                      Class = tax1[7],\n",
    "                      Phylum = tax1[8],\n",
    "                      Kingdom = tax1[9],\n",
    "                      Domain = tax1[10])\n",
    "    taxtable <- rbind(taxtable, tax3)\n",
    "}"
   ]
  },
  {
   "cell_type": "code",
   "execution_count": 14,
   "id": "244d9e13-f02c-4add-b91e-f1abddb6a5a8",
   "metadata": {},
   "outputs": [],
   "source": [
    "write.table(taxtable, \"referencetable_taxonomy_RefseqNCBI_16S.txt\", quote = F, sep = \"\\t\", row.names = F)"
   ]
  }
 ],
 "metadata": {
  "kernelspec": {
   "display_name": "R",
   "language": "R",
   "name": "ir"
  },
  "language_info": {
   "codemirror_mode": "r",
   "file_extension": ".r",
   "mimetype": "text/x-r-source",
   "name": "R",
   "pygments_lexer": "r",
   "version": "4.3.2"
  }
 },
 "nbformat": 4,
 "nbformat_minor": 5
}
