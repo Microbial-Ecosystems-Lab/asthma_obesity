{
 "cells": [
  {
   "cell_type": "markdown",
   "id": "3987dc5e-a97c-4f0a-aeb4-7b7a8f22b822",
   "metadata": {},
   "source": [
    "#### Assigning taxonomy to nanopore reads"
   ]
  },
  {
   "cell_type": "code",
   "execution_count": 2,
   "id": "f7841c03-9249-47be-b91c-d77c56346c2a",
   "metadata": {
    "scrolled": true
   },
   "outputs": [],
   "source": [
    "#loading packages\n",
    "library(tidyverse)  "
   ]
  },
  {
   "cell_type": "code",
   "execution_count": 3,
   "id": "945c3073-caf7-4cb3-bd43-12f9817985a6",
   "metadata": {},
   "outputs": [],
   "source": [
    "#loading reference file (linking refseq accession number and taxID\n",
    "#reference file was obtaining parsing gff3 file provided by NCBI \n",
    "RefseqTaxID <- read.delim(\"data/RefseqTaxID.txt\", h=T)\n",
    "\n",
    "#loading TaxID full lineage file \n",
    "#Check out step 2-Parsing_Database_Refseq16S\n",
    "TaxID_FullLineage <- read.delim(\"data/referencetable_taxonomy_RefseqNCBI_16S.txt\", quote = \"\")\n",
    "\n",
    "#loading metadata file including read counts after quality check\n",
    "metadata <- read.delim(\"data/metadata_nreads.tsv\", h=T)"
   ]
  },
  {
   "cell_type": "code",
   "execution_count": 4,
   "id": "f203ef10-78cb-4788-a4b0-d3f266c33b22",
   "metadata": {},
   "outputs": [],
   "source": [
    "#### REPO with kma output\n",
    "fragfiles <- list.files(pattern = \".frag$\")"
   ]
  },
  {
   "cell_type": "code",
   "execution_count": 82,
   "id": "94d68f46-07bb-421a-9461-0594f9657728",
   "metadata": {},
   "outputs": [],
   "source": [
    "dfall <- NULL\n",
    "\n",
    "for(i in 1:length(fragfiles)){\n",
    "    tab <- read.delim(fragfiles[i], h=F)\n",
    "    freqtab <- table(gsub(\" .*\", \"\", tab$V6))\n",
    "    df <- data.frame(Refseq = names(freqtab), Counts = as.numeric(freqtab))\n",
    "    dfTaxID <- merge(RefseqTaxID, df, by = \"Refseq\")\n",
    "    freqtable_tax <- merge(dfTaxID, TaxID_FullLineage, by.x = \"TaxID\", by.y = \"id\")\n",
    "    freqtable_tax$ID_Sample <- gsub(\"-.*\", \"\", fragfiles[i])\n",
    "    freqtable_tax_metadata <- merge(freqtable_tax, metadata, by = \"ID_Sample\")\n",
    "    freqtable_tax_metadata$RelativeAbundance <- ((freqtable_tax_metadata$Counts)/sum(freqtable_tax_metadata$Counts))*100\n",
    "    freqtable_tax_metadata$FreqAlignment <- (sum(freqtable_tax_metadata$Counts)/freqtable_tax_metadata$NumberReads)*100\n",
    "    dfall <- rbind(dfall, freqtable_tax_metadata)\n",
    "}"
   ]
  },
  {
   "cell_type": "code",
   "execution_count": 73,
   "id": "bcf7bd08-5ac0-454a-8846-4760465698bc",
   "metadata": {},
   "outputs": [],
   "source": [
    "write.table(dfall, \"ReadCounts_TaxAnnotation.txt\", quote = F, sep = \"\\t\", row.names = F)"
   ]
  }
 ],
 "metadata": {
  "kernelspec": {
   "display_name": "R",
   "language": "R",
   "name": "ir"
  },
  "language_info": {
   "codemirror_mode": "r",
   "file_extension": ".r",
   "mimetype": "text/x-r-source",
   "name": "R",
   "pygments_lexer": "r",
   "version": "4.3.2"
  }
 },
 "nbformat": 4,
 "nbformat_minor": 5
}
