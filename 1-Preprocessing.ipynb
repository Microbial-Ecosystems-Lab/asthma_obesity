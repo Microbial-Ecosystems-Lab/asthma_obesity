{
 "cells": [
  {
   "cell_type": "markdown",
   "id": "a276d1d7-3092-42ce-bffa-de89f49724e9",
   "metadata": {},
   "source": [
    "###This code was adapted from https://github.com/jkzorz/SituSeq/\n",
    "###Citation: Zorz, J., Li, C., Chakraborty, A. et al. SituSeq: an offline protocol for rapid and remote Nanopore 16S rRNA amplicon sequence analysis. ISME COMMUN. 3, 33 (2023)."
   ]
  },
  {
   "cell_type": "code",
   "execution_count": 6,
   "id": "2934f1c7-ca52-489e-a1dc-439d38b4ce25",
   "metadata": {},
   "outputs": [],
   "source": [
    "library(ShortRead)\n",
    "library(dada2)\n",
    "library(tidyverse)"
   ]
  },
  {
   "cell_type": "code",
   "execution_count": 7,
   "id": "0d043c26-e04b-4409-9a6a-f60bc393c143",
   "metadata": {},
   "outputs": [],
   "source": [
    "##Entering parameters for trimminging and filtering\n",
    "\n",
    "minLength <- 1200 #Removes reads shorter than this length. Minimum length is enforced AFTER trimming\n",
    "maxLength <- 1800 #Removes reads longer than this length. Maximum length is enforced BEFORE trimming \n",
    "trimLeft <- 100 #The number of nucleotides to remove from the start of each read. Must cover the primer length\n",
    "trimRight <- 100 #The number of nucleotides to remove from the end of each read. Must cover the primer length"
   ]
  },
  {
   "cell_type": "code",
   "execution_count": 8,
   "id": "6c586995-0064-483d-b041-b8ec38ff5138",
   "metadata": {},
   "outputs": [],
   "source": [
    "path <- getwd()\n",
    "\n",
    "files <- list.files(pattern = \"Sample\")\n",
    "sample.names <- sapply(strsplit(basename(files), \"\\\\.\"), `[`, 1)\n",
    "\n",
    "rawFiles <- sort(list.files(path, pattern=\".fastq\", full.names = TRUE))\n",
    "filtFiles <- file.path(path, \"filtered\", paste0(sample.names, \"_filt.fastq\"))"
   ]
  },
  {
   "cell_type": "code",
   "execution_count": 9,
   "id": "e7c4835f-6787-4b47-9791-051f28973722",
   "metadata": {},
   "outputs": [
    {
     "name": "stderr",
     "output_type": "stream",
     "text": [
      "Creating output directory: /media/zaramela/dumbo/vania/raw_data/filtered\n",
      "\n"
     ]
    }
   ],
   "source": [
    "out <- filterAndTrim(rawFiles, filtFiles, trimLeft = trimLeft, \n",
    "                     trimRight = trimRight, maxLen = maxLength, \n",
    "                     minLen = minLength,  truncQ = 0, \n",
    "                     compress = FALSE)"
   ]
  },
  {
   "cell_type": "code",
   "execution_count": 10,
   "id": "2558a4cb-4864-45a8-89d6-6f8300781301",
   "metadata": {},
   "outputs": [
    {
     "data": {
      "text/html": [
       "<table class=\"dataframe\">\n",
       "<caption>A matrix: 20 × 2 of type dbl</caption>\n",
       "<thead>\n",
       "\t<tr><th></th><th scope=col>reads.in</th><th scope=col>reads.out</th></tr>\n",
       "</thead>\n",
       "<tbody>\n",
       "\t<tr><th scope=row>ID1-Sample-1.fastq</th><td> 3487</td><td> 2750</td></tr>\n",
       "\t<tr><th scope=row>ID10-Sample-10.fastq</th><td> 5620</td><td> 4661</td></tr>\n",
       "\t<tr><th scope=row>ID11-Sample-11.fastq</th><td>10939</td><td> 8929</td></tr>\n",
       "\t<tr><th scope=row>ID12-Sample-12.fastq</th><td>13697</td><td>11950</td></tr>\n",
       "\t<tr><th scope=row>ID13-Sample-13.fastq</th><td> 7056</td><td> 5294</td></tr>\n",
       "\t<tr><th scope=row>ID14-Sample-14.fastq</th><td> 5342</td><td> 4216</td></tr>\n",
       "\t<tr><th scope=row>ID15-Sample-15.fastq</th><td> 4506</td><td> 3530</td></tr>\n",
       "\t<tr><th scope=row>ID16-Sample-16.fastq</th><td>13701</td><td>11120</td></tr>\n",
       "\t<tr><th scope=row>ID17-Sample-17.fastq</th><td> 9844</td><td> 7807</td></tr>\n",
       "\t<tr><th scope=row>ID18-Sample-18.fastq</th><td> 7282</td><td> 5458</td></tr>\n",
       "\t<tr><th scope=row>ID19-Sample-19.fastq</th><td> 6932</td><td> 5566</td></tr>\n",
       "\t<tr><th scope=row>ID2-Sample-2.fastq</th><td> 8455</td><td> 6169</td></tr>\n",
       "\t<tr><th scope=row>ID20-Sample-20.fastq</th><td> 9370</td><td> 7489</td></tr>\n",
       "\t<tr><th scope=row>ID3-Sample-3.fastq</th><td> 9088</td><td> 6986</td></tr>\n",
       "\t<tr><th scope=row>ID4-Sample-4.fastq</th><td> 6083</td><td> 5017</td></tr>\n",
       "\t<tr><th scope=row>ID5-Sample-5.fastq</th><td>16944</td><td>14686</td></tr>\n",
       "\t<tr><th scope=row>ID6-Sample-6.fastq</th><td> 6103</td><td> 4932</td></tr>\n",
       "\t<tr><th scope=row>ID7-Sample-7.fastq</th><td>11410</td><td> 9426</td></tr>\n",
       "\t<tr><th scope=row>ID8-Sample-8.fastq</th><td> 7969</td><td> 6589</td></tr>\n",
       "\t<tr><th scope=row>ID9-Sample-9.fastq</th><td> 9915</td><td> 8365</td></tr>\n",
       "</tbody>\n",
       "</table>\n"
      ],
      "text/latex": [
       "A matrix: 20 × 2 of type dbl\n",
       "\\begin{tabular}{r|ll}\n",
       "  & reads.in & reads.out\\\\\n",
       "\\hline\n",
       "\tID1-Sample-1.fastq &  3487 &  2750\\\\\n",
       "\tID10-Sample-10.fastq &  5620 &  4661\\\\\n",
       "\tID11-Sample-11.fastq & 10939 &  8929\\\\\n",
       "\tID12-Sample-12.fastq & 13697 & 11950\\\\\n",
       "\tID13-Sample-13.fastq &  7056 &  5294\\\\\n",
       "\tID14-Sample-14.fastq &  5342 &  4216\\\\\n",
       "\tID15-Sample-15.fastq &  4506 &  3530\\\\\n",
       "\tID16-Sample-16.fastq & 13701 & 11120\\\\\n",
       "\tID17-Sample-17.fastq &  9844 &  7807\\\\\n",
       "\tID18-Sample-18.fastq &  7282 &  5458\\\\\n",
       "\tID19-Sample-19.fastq &  6932 &  5566\\\\\n",
       "\tID2-Sample-2.fastq &  8455 &  6169\\\\\n",
       "\tID20-Sample-20.fastq &  9370 &  7489\\\\\n",
       "\tID3-Sample-3.fastq &  9088 &  6986\\\\\n",
       "\tID4-Sample-4.fastq &  6083 &  5017\\\\\n",
       "\tID5-Sample-5.fastq & 16944 & 14686\\\\\n",
       "\tID6-Sample-6.fastq &  6103 &  4932\\\\\n",
       "\tID7-Sample-7.fastq & 11410 &  9426\\\\\n",
       "\tID8-Sample-8.fastq &  7969 &  6589\\\\\n",
       "\tID9-Sample-9.fastq &  9915 &  8365\\\\\n",
       "\\end{tabular}\n"
      ],
      "text/markdown": [
       "\n",
       "A matrix: 20 × 2 of type dbl\n",
       "\n",
       "| <!--/--> | reads.in | reads.out |\n",
       "|---|---|---|\n",
       "| ID1-Sample-1.fastq |  3487 |  2750 |\n",
       "| ID10-Sample-10.fastq |  5620 |  4661 |\n",
       "| ID11-Sample-11.fastq | 10939 |  8929 |\n",
       "| ID12-Sample-12.fastq | 13697 | 11950 |\n",
       "| ID13-Sample-13.fastq |  7056 |  5294 |\n",
       "| ID14-Sample-14.fastq |  5342 |  4216 |\n",
       "| ID15-Sample-15.fastq |  4506 |  3530 |\n",
       "| ID16-Sample-16.fastq | 13701 | 11120 |\n",
       "| ID17-Sample-17.fastq |  9844 |  7807 |\n",
       "| ID18-Sample-18.fastq |  7282 |  5458 |\n",
       "| ID19-Sample-19.fastq |  6932 |  5566 |\n",
       "| ID2-Sample-2.fastq |  8455 |  6169 |\n",
       "| ID20-Sample-20.fastq |  9370 |  7489 |\n",
       "| ID3-Sample-3.fastq |  9088 |  6986 |\n",
       "| ID4-Sample-4.fastq |  6083 |  5017 |\n",
       "| ID5-Sample-5.fastq | 16944 | 14686 |\n",
       "| ID6-Sample-6.fastq |  6103 |  4932 |\n",
       "| ID7-Sample-7.fastq | 11410 |  9426 |\n",
       "| ID8-Sample-8.fastq |  7969 |  6589 |\n",
       "| ID9-Sample-9.fastq |  9915 |  8365 |\n",
       "\n"
      ],
      "text/plain": [
       "                     reads.in reads.out\n",
       "ID1-Sample-1.fastq    3487     2750    \n",
       "ID10-Sample-10.fastq  5620     4661    \n",
       "ID11-Sample-11.fastq 10939     8929    \n",
       "ID12-Sample-12.fastq 13697    11950    \n",
       "ID13-Sample-13.fastq  7056     5294    \n",
       "ID14-Sample-14.fastq  5342     4216    \n",
       "ID15-Sample-15.fastq  4506     3530    \n",
       "ID16-Sample-16.fastq 13701    11120    \n",
       "ID17-Sample-17.fastq  9844     7807    \n",
       "ID18-Sample-18.fastq  7282     5458    \n",
       "ID19-Sample-19.fastq  6932     5566    \n",
       "ID2-Sample-2.fastq    8455     6169    \n",
       "ID20-Sample-20.fastq  9370     7489    \n",
       "ID3-Sample-3.fastq    9088     6986    \n",
       "ID4-Sample-4.fastq    6083     5017    \n",
       "ID5-Sample-5.fastq   16944    14686    \n",
       "ID6-Sample-6.fastq    6103     4932    \n",
       "ID7-Sample-7.fastq   11410     9426    \n",
       "ID8-Sample-8.fastq    7969     6589    \n",
       "ID9-Sample-9.fastq    9915     8365    "
      ]
     },
     "metadata": {},
     "output_type": "display_data"
    }
   ],
   "source": [
    "out"
   ]
  }
 ],
 "metadata": {
  "kernelspec": {
   "display_name": "R",
   "language": "R",
   "name": "ir"
  },
  "language_info": {
   "codemirror_mode": "r",
   "file_extension": ".r",
   "mimetype": "text/x-r-source",
   "name": "R",
   "pygments_lexer": "r",
   "version": "4.3.1"
  }
 },
 "nbformat": 4,
 "nbformat_minor": 5
}
